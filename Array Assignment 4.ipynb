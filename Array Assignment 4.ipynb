{
 "cells": [
  {
   "cell_type": "code",
   "execution_count": null,
   "id": "a4d43bb5-26ee-4459-8f60-b9714a929dad",
   "metadata": {},
   "outputs": [],
   "source": [
    "Question 1\n",
    "Given three integer arrays arr1, arr2 and arr3 **sorted** in **strictly increasing** order, return a sorted array of **only** the integers that appeared in **all** three arrays.\n",
    "\n",
    "Example 1:\n",
    "\n",
    "Input: arr1 = [1,2,3,4,5], arr2 = [1,2,5,7,9], arr3 = [1,3,4,5,8]\n",
    "\n",
    "Output: [1,5]\n",
    "\n",
    "Explanation:Only 1 and 5 appeared in the three arrays."
   ]
  },
  {
   "cell_type": "code",
   "execution_count": 1,
   "id": "96fba741-be61-4394-832f-54f9cfb026d2",
   "metadata": {},
   "outputs": [],
   "source": [
    "def find_common_elements(arr1, arr2, arr3):\n",
    "    p1 = p2 = p3 = 0\n",
    "    result = []\n",
    "\n",
    "    while p1 < len(arr1) and p2 < len(arr2) and p3 < len(arr3):\n",
    "        if arr1[p1] == arr2[p2] == arr3[p3]:\n",
    "            result.append(arr1[p1])\n",
    "            p1 += 1\n",
    "            p2 += 1\n",
    "            p3 += 1\n",
    "        else:\n",
    "            min_val = min(arr1[p1], arr2[p2], arr3[p3])\n",
    "            if arr1[p1] == min_val:\n",
    "                p1 += 1\n",
    "            if arr2[p2] == min_val:\n",
    "                p2 += 1\n",
    "            if arr3[p3] == min_val:\n",
    "                p3 += 1\n",
    "\n",
    "    return result"
   ]
  },
  {
   "cell_type": "code",
   "execution_count": 2,
   "id": "af3e475e-da4e-4568-8ec6-14695128e835",
   "metadata": {},
   "outputs": [
    {
     "name": "stdout",
     "output_type": "stream",
     "text": [
      "[1, 5]\n"
     ]
    }
   ],
   "source": [
    "arr1 = [1, 2, 3, 4, 5]\n",
    "arr2 = [1, 2, 5, 7, 9]\n",
    "arr3 = [1, 3, 4, 5, 8]\n",
    "\n",
    "result = find_common_elements(arr1, arr2, arr3)\n",
    "print(result)  # Output: [1, 5]"
   ]
  },
  {
   "cell_type": "code",
   "execution_count": null,
   "id": "1e83e70d-9996-460e-b465-59569efb9685",
   "metadata": {},
   "outputs": [],
   "source": [
    "Question 2\n",
    "\n",
    "Given two 0-indexed integer arrays nums1 and nums2, return a list answer of size 2 where:\n",
    "\n",
    "- answer[0] is a list of all distinct integers in nums1 which are not present in nums2.\n",
    "- answer[1] is a list of all distinct integers in nums2 which are not present in nums1.\n",
    "\n",
    "Note that the integers in the lists may be returned in any order.\n",
    "\n",
    "Example 1:\n",
    "\n",
    "Input: nums1 = [1,2,3], nums2 = [2,4,6]\n",
    "\n",
    "Output: [[1,3],[4,6]]\n",
    "\n",
    "Explanation:\n",
    "\n",
    "For nums1, nums1[1] = 2 is present at index 0 of nums2, whereas nums1[0] = 1 and nums1[2] = 3 are not present in nums2. Therefore, answer[0] = [1,3].\n",
    "\n",
    "For nums2, nums2[0] = 2 is present at index 1 of nums1, whereas nums2[1] = 4 and nums2[2] = 6 are not present in nums2. Therefore, answer[1] = [4,6]."
   ]
  },
  {
   "cell_type": "code",
   "execution_count": 3,
   "id": "fbbaf044-4bf4-4b86-bfc1-56920c8dc450",
   "metadata": {},
   "outputs": [],
   "source": [
    "def find_missing_elements(nums1, nums2):\n",
    "    set1 = set(nums1)\n",
    "    set2 = set(nums2)\n",
    "\n",
    "    not_in_nums2 = [num for num in nums1 if num not in set2]\n",
    "    not_in_nums1 = [num for num in nums2 if num not in set1]\n",
    "\n",
    "    return [not_in_nums1, not_in_nums2]"
   ]
  },
  {
   "cell_type": "code",
   "execution_count": 4,
   "id": "19902fed-3274-4680-937d-e5f9fd21ee7e",
   "metadata": {},
   "outputs": [
    {
     "name": "stdout",
     "output_type": "stream",
     "text": [
      "[[4, 6], [1, 3]]\n"
     ]
    }
   ],
   "source": [
    "nums1 = [1, 2, 3]\n",
    "nums2 = [2, 4, 6]\n",
    "\n",
    "result = find_missing_elements(nums1, nums2)\n",
    "print(result)  # Output: [[4, 6], [1, 3]]"
   ]
  },
  {
   "cell_type": "code",
   "execution_count": null,
   "id": "17bfd2ff-c601-40e5-844b-b3d00975fed9",
   "metadata": {},
   "outputs": [],
   "source": [
    "Question 3\n",
    "Given a 2D integer array matrix, return the transpose of matrix.\n",
    "\n",
    "The transpose of a matrix is the matrix flipped over its main diagonal, switching the matrix's row and column indices.\n",
    "\n",
    "Example 1:\n",
    "\n",
    "Input: matrix = [[1,2,3],[4,5,6],[7,8,9]]\n",
    "\n",
    "Output: [[1,4,7],[2,5,8],[3,6,9]]"
   ]
  },
  {
   "cell_type": "code",
   "execution_count": 5,
   "id": "6170d203-e391-4af4-815a-694dc4442df7",
   "metadata": {},
   "outputs": [],
   "source": [
    "def transpose_matrix(matrix):\n",
    "    rows = len(matrix)\n",
    "    cols = len(matrix[0])\n",
    "\n",
    "    result = [[0 for _ in range(rows)] for _ in range(cols)]\n",
    "\n",
    "    for i in range(rows):\n",
    "        for j in range(cols):\n",
    "            result[j][i] = matrix[i][j]\n",
    "\n",
    "    return result"
   ]
  },
  {
   "cell_type": "code",
   "execution_count": 6,
   "id": "05513c7c-ba95-4cc6-aba9-2306b73b2f90",
   "metadata": {},
   "outputs": [
    {
     "name": "stdout",
     "output_type": "stream",
     "text": [
      "[[1, 4, 7], [2, 5, 8], [3, 6, 9]]\n"
     ]
    }
   ],
   "source": [
    "matrix = [[1, 2, 3], [4, 5, 6], [7, 8, 9]]\n",
    "\n",
    "result = transpose_matrix(matrix)\n",
    "print(result)  # Output: [[1, 4, 7], [2, 5, 8], [3, 6, 9]]"
   ]
  },
  {
   "cell_type": "code",
   "execution_count": null,
   "id": "97b38725-53a0-4d05-82ac-505193724809",
   "metadata": {},
   "outputs": [],
   "source": [
    "Question 5\n",
    "You have n coins and you want to build a staircase with these coins. The staircase consists of k rows where the ith row has exactly i coins. \n",
    "The last row of the staircase may be incomplete.\n",
    "\n",
    "Given the integer n, return the number of complete rows of the staircase you will build.\n",
    "\n",
    "Example 1:\n",
    "\n",
    "Input: n = 5\n",
    "\n",
    "Output: 2\n",
    "\n",
    "Explanation: Because the 3rd row is incomplete, we return 2."
   ]
  },
  {
   "cell_type": "code",
   "execution_count": 7,
   "id": "baf2e6ff-0dc2-4417-a133-f65a4fc632c4",
   "metadata": {},
   "outputs": [],
   "source": [
    "def count_complete_rows(n):\n",
    "    complete_rows = 0\n",
    "    remaining_coins = n\n",
    "    row = 1\n",
    "\n",
    "    while remaining_coins >= row:\n",
    "        remaining_coins -= row\n",
    "        complete_rows += 1\n",
    "        row += 1\n",
    "\n",
    "    return complete_rows"
   ]
  },
  {
   "cell_type": "code",
   "execution_count": 8,
   "id": "35824419-157f-41b5-8698-9b5517613473",
   "metadata": {},
   "outputs": [
    {
     "name": "stdout",
     "output_type": "stream",
     "text": [
      "2\n"
     ]
    }
   ],
   "source": [
    "n = 5\n",
    "\n",
    "result = count_complete_rows(n)\n",
    "print(result)  # Output: 2"
   ]
  },
  {
   "cell_type": "code",
   "execution_count": null,
   "id": "3aee92d5-2d00-4686-93fc-b44319820b24",
   "metadata": {},
   "outputs": [],
   "source": [
    "Question 6\n",
    "Given an integer array nums sorted in non-decreasing order, return an array of the squares of each number sorted in non-decreasing order.\n",
    "\n",
    "Example 1:\n",
    "\n",
    "Input: nums = [-4,-1,0,3,10]\n",
    "\n",
    "Output: [0,1,9,16,100]\n",
    "\n",
    "Explanation: After squaring, the array becomes [16,1,0,9,100].\n",
    "After sorting, it becomes [0,1,9,16,100]"
   ]
  },
  {
   "cell_type": "code",
   "execution_count": 9,
   "id": "4909f943-7200-4855-91cd-ed643cd0d77d",
   "metadata": {},
   "outputs": [],
   "source": [
    "def square_and_sort(nums):\n",
    "    squared_nums = []\n",
    "\n",
    "    for num in nums:\n",
    "        squared_nums.append(num * num)\n",
    "\n",
    "    squared_nums.sort()\n",
    "\n",
    "    return squared_nums"
   ]
  },
  {
   "cell_type": "code",
   "execution_count": 10,
   "id": "6385280a-0768-417a-b1a6-cef20a1f1fa5",
   "metadata": {},
   "outputs": [
    {
     "name": "stdout",
     "output_type": "stream",
     "text": [
      "[0, 1, 9, 16, 100]\n"
     ]
    }
   ],
   "source": [
    "nums = [-4, -1, 0, 3, 10]\n",
    "\n",
    "result = square_and_sort(nums)\n",
    "print(result)  # Output: [0, 1, 9, 16, 100]"
   ]
  },
  {
   "cell_type": "code",
   "execution_count": null,
   "id": "dd1f56b7-dbfd-4eac-b6a2-b0b804bdf971",
   "metadata": {},
   "outputs": [],
   "source": [
    "Question 7\n",
    "You are given an m x n matrix M initialized with all 0s and an array of operations ops, where ops[i] = [ai, bi] means M[x][y] should be incremented \n",
    "by one for all 0 <= x < ai and 0 <= y < bi.\n",
    "\n",
    "Count and return the number of maximum integers in the matrix after performing all the operations\n",
    "\n",
    "Example 1:\n",
    "    \n",
    "Input: m = 3, n = 3, ops = [[2,2],[3,3]]\n",
    "\n",
    "Output: 4\n",
    "\n",
    "Explanation: The maximum integer in M is 2, and there are four of it in M. So return 4."
   ]
  },
  {
   "cell_type": "code",
   "execution_count": 11,
   "id": "ec66645d-efc4-4925-8f56-0cddf4d0f96b",
   "metadata": {},
   "outputs": [],
   "source": [
    "def count_max_integers(m, n, ops):\n",
    "    min_row = m\n",
    "    min_col = n\n",
    "\n",
    "    for op in ops:\n",
    "        min_row = min(min_row, op[0])\n",
    "        min_col = min(min_col, op[1])\n",
    "\n",
    "    return min_row * min_col"
   ]
  },
  {
   "cell_type": "code",
   "execution_count": 12,
   "id": "972a9fd0-9ec7-4e1b-b8a7-ff064c5ee42c",
   "metadata": {},
   "outputs": [
    {
     "name": "stdout",
     "output_type": "stream",
     "text": [
      "4\n"
     ]
    }
   ],
   "source": [
    "m = 3\n",
    "n = 3\n",
    "ops = [[2, 2], [3, 3]]\n",
    "\n",
    "result = count_max_integers(m, n, ops)\n",
    "print(result)  # Output: 4"
   ]
  },
  {
   "cell_type": "code",
   "execution_count": null,
   "id": "25cff28b-5a6a-4c3a-8dce-b89859931623",
   "metadata": {},
   "outputs": [],
   "source": [
    "Question 8\n",
    "\n",
    "Given the array nums consisting of 2n elements in the form [x1,x2,...,xn,y1,y2,...,yn].\n",
    "\n",
    "Return the array in the form [x1,y1,x2,y2,...,xn,yn].\n",
    "\n",
    "Example 1:\n",
    "\n",
    "Input: nums = [2,5,1,3,4,7], n = 3\n",
    "\n",
    "Output: [2,3,5,4,1,7]\n",
    "\n",
    "Explanation: Since x1=2, x2=5, x3=1, y1=3, y2=4, y3=7 then the answer is [2,3,5,4,1,7]."
   ]
  },
  {
   "cell_type": "code",
   "execution_count": 13,
   "id": "d7167cbf-43ce-446e-8668-a997e9a99326",
   "metadata": {},
   "outputs": [],
   "source": [
    "def rearrange_array(nums, n):\n",
    "    result = []\n",
    "\n",
    "    for i in range(n):\n",
    "        result.append(nums[i])\n",
    "        result.append(nums[i + n])\n",
    "\n",
    "    return result"
   ]
  },
  {
   "cell_type": "code",
   "execution_count": 14,
   "id": "508b29f1-242b-41fe-8747-369a4060e8c7",
   "metadata": {},
   "outputs": [
    {
     "name": "stdout",
     "output_type": "stream",
     "text": [
      "[2, 3, 5, 4, 1, 7]\n"
     ]
    }
   ],
   "source": [
    "nums = [2, 5, 1, 3, 4, 7]\n",
    "n = 3\n",
    "\n",
    "result = rearrange_array(nums, n)\n",
    "print(result)  # Output: [2, 3, 5, 4, 1, 7]"
   ]
  }
 ],
 "metadata": {
  "kernelspec": {
   "display_name": "Python 3 (ipykernel)",
   "language": "python",
   "name": "python3"
  },
  "language_info": {
   "codemirror_mode": {
    "name": "ipython",
    "version": 3
   },
   "file_extension": ".py",
   "mimetype": "text/x-python",
   "name": "python",
   "nbconvert_exporter": "python",
   "pygments_lexer": "ipython3",
   "version": "3.10.8"
  }
 },
 "nbformat": 4,
 "nbformat_minor": 5
}
